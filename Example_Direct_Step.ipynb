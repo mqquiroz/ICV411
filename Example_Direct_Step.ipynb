{
  "nbformat": 4,
  "nbformat_minor": 0,
  "metadata": {
    "colab": {
      "name": "Example_Direct_Step.ipynb",
      "provenance": [],
      "authorship_tag": "ABX9TyPd8yT4jhkaTsbbyMdAde4v",
      "include_colab_link": true
    },
    "kernelspec": {
      "name": "python3",
      "display_name": "Python 3"
    },
    "language_info": {
      "name": "python"
    }
  },
  "cells": [
    {
      "cell_type": "markdown",
      "metadata": {
        "id": "view-in-github",
        "colab_type": "text"
      },
      "source": [
        "<a href=\"https://colab.research.google.com/github/mqquiroz/ICV411/blob/main/Example_Direct_Step.ipynb\" target=\"_parent\"><img src=\"https://colab.research.google.com/assets/colab-badge.svg\" alt=\"Open In Colab\"/></a>"
      ]
    },
    {
      "cell_type": "markdown",
      "metadata": {
        "id": "Y0VGG8mIKjc_"
      },
      "source": [
        "GVD example Direct Step (Moglen 6.1)\n",
        "\n",
        "[Video Youtube](https://www.youtube.com/watch?v=L5oBguZC_2c)"
      ]
    },
    {
      "cell_type": "code",
      "metadata": {
        "id": "o1jk8Tx8BSBO"
      },
      "source": [
        "import numpy as np\n",
        "import matplotlib.pyplot as plt\n",
        "from scipy.optimize import fsolve,newton"
      ],
      "execution_count": 2,
      "outputs": []
    },
    {
      "cell_type": "code",
      "metadata": {
        "id": "15iLHlL-BarQ"
      },
      "source": [
        "#Manning dor a trapezoidal or rectangular channel\n",
        "def manning(y,Q,b,S,n,Co,m):\n",
        "  A = (b+m*y)*y\n",
        "  R = A/(b+2*y*(1+m**2)**(1/2))\n",
        "  return Q-(Co/n)*A*R**(2/3)*S**(1/2)\n",
        "\n",
        "#Critical flow depth\n",
        "def critT(y):\n",
        "  A = (b+m*y)*y\n",
        "  B = b+2*m*y\n",
        "  return Q/np.sqrt(g*A**3/B)-1"
      ],
      "execution_count": 3,
      "outputs": []
    },
    {
      "cell_type": "code",
      "metadata": {
        "colab": {
          "base_uri": "https://localhost:8080/"
        },
        "id": "UXkX6AOhCodM",
        "outputId": "766573a9-26fa-456e-cbfc-96ebc2c6da48"
      },
      "source": [
        "#Conditions for the M2 profile using channel properties from example 6.1\n",
        "\n",
        "g = 9.81\n",
        "Q = 30\n",
        "b = 10\n",
        "n = 0.03\n",
        "m = 0\n",
        "So = 0.0050\n",
        "x0 = 0 #Starting point\n",
        "\n",
        "if g>10:\n",
        "  Co = 1.486\n",
        "else:\n",
        "  Co = 1\n",
        "\n",
        "#Specify depth (crit and normal)\n",
        "yc = newton(critT,0.2)\n",
        "yo = fsolve(manning,1,args=(Q,b,So,n,Co,m))\n",
        "print('Critical depth',np.around(yc,decimals=3))\n",
        "print('Normal depth',np.around(yo,decimals=3))"
      ],
      "execution_count": 4,
      "outputs": [
        {
          "output_type": "stream",
          "text": [
            "Critical depth 0.972\n",
            "Normal depth [1.265]\n"
          ],
          "name": "stdout"
        }
      ]
    },
    {
      "cell_type": "code",
      "metadata": {
        "id": "vQMa8A7lEKG6"
      },
      "source": [
        "#Specify depths\n",
        "yd = yc #downstream\n",
        "yu = np.around(yo,decimals=6) #upstream\n",
        "yu = 1.2619 #needed to match Moglen"
      ],
      "execution_count": 5,
      "outputs": []
    },
    {
      "cell_type": "code",
      "metadata": {
        "id": "rmJS5UIIEu_-"
      },
      "source": [
        "#Calculate profile [small number if points]\n",
        "\n",
        "N = 8 #number of calculation points\n",
        "y = np.array([yd,1,1.05,1.1,1.15,1.2,1.25,yu])\n",
        "\n",
        "#N = 100\n",
        "#y =np.linspace(yd,yu,N)\n",
        "\n",
        "dx = np.zeros(N-1)\n",
        "x = np.zeros(N)\n",
        "\n",
        "A = (b+m*y)*y\n",
        "R = A/(b+2*y*(1+m**2)**(1/2))\n",
        "Sf = (Q*n/(Co*A*R**(2/3)))**2\n",
        "E = y+Q**2/(2*g*A**2)\n",
        "\n",
        "dx = (E[1:]-E[:-1])/(So-0.5*(Sf[1:]+Sf[:-1]))\n",
        "x[0] = x0\n",
        "x[1:] = dx\n",
        "x = np.cumsum(x)"
      ],
      "execution_count": 6,
      "outputs": []
    },
    {
      "cell_type": "code",
      "metadata": {
        "colab": {
          "base_uri": "https://localhost:8080/"
        },
        "id": "SyCNrLOkHeK1",
        "outputId": "6ac1f575-2610-4e2b-b2c8-0e2194a6cd67"
      },
      "source": [
        "print(np.around(x,decimals=2))"
      ],
      "execution_count": 7,
      "outputs": [
        {
          "output_type": "stream",
          "text": [
            "[   0.     -0.2    -1.8    -5.78  -13.87  -30.72  -77.92 -136.11]\n"
          ],
          "name": "stdout"
        }
      ]
    },
    {
      "cell_type": "code",
      "metadata": {
        "colab": {
          "base_uri": "https://localhost:8080/",
          "height": 296
        },
        "id": "xDAigmSOHkEr",
        "outputId": "e6dd52ba-2519-42a8-aca2-9febfe29b3dc"
      },
      "source": [
        "plt.plot(x,y,linestyle='-',marker='o',color='b')\n",
        "plt.ylabel('depth, y [m]')\n",
        "plt.xlabel('distance, x [m]')\n",
        "plt.show()\n",
        "print('distance to the upstream bc =', np.around(x[N-1],decimals=2))"
      ],
      "execution_count": 9,
      "outputs": [
        {
          "output_type": "display_data",
          "data": {
            "image/png": "[encoded data removed]",
            "text/plain": [
              "<Figure size 432x288 with 1 Axes>"
            ]
          },
          "metadata": {
            "tags": [],
            "needs_background": "light"
          }
        },
        {
          "output_type": "stream",
          "text": [
            "distance to the upstream bc = -136.11\n"
          ],
          "name": "stdout"
        }
      ]
    },
    {
      "cell_type": "code",
      "metadata": {
        "colab": {
          "base_uri": "https://localhost:8080/",
          "height": 296
        },
        "id": "RTbNXNhGIHQh",
        "outputId": "f61b8269-d83f-4864-835e-27a9c77a2f3f"
      },
      "source": [
        "eta = -x*So\n",
        "WSE = eta+y\n",
        "\n",
        "plt.plot(x,eta,'k-',label='bed')\n",
        "plt.plot(x,WSE, linestyle='-',color='b',label='WSE')\n",
        "plt.legend()\n",
        "plt.ylabel('Elevation, [m]')\n",
        "plt.xlabel('distance, x [m]')\n",
        "plt.xlim(x[N-1],x[0])\n",
        "plt.show()\n",
        "print('distance to theupstream bc =',np.around(x[N-1],decimals=2))"
      ],
      "execution_count": 10,
      "outputs": [
        {
          "output_type": "display_data",
          "data": {
            "image/png": "[encoded data removed]",
            "text/plain": [
              "<Figure size 432x288 with 1 Axes>"
            ]
          },
          "metadata": {
            "tags": [],
            "needs_background": "light"
          }
        },
        {
          "output_type": "stream",
          "text": [
            "distance to theupstream bc = -136.11\n"
          ],
          "name": "stdout"
        }
      ]
    }
  ]
}